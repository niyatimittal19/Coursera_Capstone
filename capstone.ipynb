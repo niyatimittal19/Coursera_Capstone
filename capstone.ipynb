<h1> This notebook is for week1 Capstone project </h1>
import pandas as pd
import numpy as np
print("Hello Capstone Project Coursera!")

